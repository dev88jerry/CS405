{
  "metadata": {
    "date": 1663157799.3671956,
    "filename": "tpArbresDecision.rst",
    "kernelspec": {
      "name": "python",
      "display_name": "Python (Pyodide)",
      "language": "python"
    },
    "language_info": {
      "codemirror_mode": {
        "name": "python",
        "version": 3
      },
      "file_extension": ".py",
      "mimetype": "text/x-python",
      "name": "python",
      "nbconvert_exporter": "python",
      "pygments_lexer": "ipython3",
      "version": "3.8"
    },
    "title": "Decision Trees",
    "colab": {
      "provenance": [],
      "collapsed_sections": []
    }
  },
  "nbformat_minor": 5,
  "nbformat": 4,
  "cells": [
    {
      "cell_type": "markdown",
      "source": [
        "# CS405 - Assignment 1"
      ],
      "metadata": {
        "id": "sBPhWchAqJH1"
      },
      "id": "sBPhWchAqJH1"
    },
    {
      "cell_type": "markdown",
      "source": [
        "# Assignment 1 - Decision Trees\n",
        "\n",
        "The objective of this assignment is to demonstrate the implementation of decision trees for classification and regression problems. This document freely reproduces some examples shown in the excellent scikit-learn documentation.\n",
        "\n",
        "Useful external references\n",
        "\n",
        "- [NumPy documentation](https://docs.scipy.org/doc/numpy/user/index.html)  \n",
        "- [SciPy documentation](https://docs.scipy.org/doc/scipy/reference/)  \n",
        "- [MatPlotLib documentation](http://matplotlib.org/)  \n",
        "- [scikit-learn](http://scikit-learn.org/stable/index.html)  \n",
        "- [Python Programming languages](https://www.python.org)  "
      ],
      "metadata": {
        "id": "6902927a-0fd8-4456-84f1-59dbb67525ad"
      },
      "id": "6902927a-0fd8-4456-84f1-59dbb67525ad"
    },
    {
      "cell_type": "markdown",
      "source": [
        "## Decision trees\n",
        "\n",
        "Decision trees are nonparametric learning methods used for classification and regression problems. The goal is to create a model that predicts the values of the target variable, based on a set of sequences of decision rules inferred from the training data. The tree therefore approximates the target by a succession of if-then-else rules. This paradigm applies to both categorical and numerical data. The more complex the tree generated, the better the model “explains” the learning data but the higher the risk of over-fitting. \n",
        "\n",
        "Decision trees have several advantages that make them interesting in contexts where it is useful to understand the sequence of decisions made by the model:\n",
        "\n",
        "•\tThey are easy to understand and visualize.\n",
        "\n",
        "•\tThey require little data preparation (normalization, etc.).\n",
        "\n",
        "•\tThe cost of using trees is logarithmic.\n",
        "\n",
        "•\tThey can use categorical and numerical data.\n",
        "\n",
        "•\tThey can deal with multi-class problems.\n",
        "\n",
        "•\tWhite box model: the result is easy to conceptualize and visualize.\n",
        "\n",
        "However, these models have two major disadvantages:\n",
        "\n",
        "•\tOver-fitting: sometimes the generated trees are too complex and generalize badly. Choosing good values for the maximum depth (max_depth) and minimum number of samples per leaf (min_samples_leaf) parameters avoids this problem.\n",
        "\n",
        "•\tIt may happen that the generated trees are not balanced, which implies that the travel time is no longer logarithmic. It is therefore recommended to adjust the dataset before construction, to avoid that one class largely dominates the others in terms of the number of training examples\n",
        " "
      ],
      "metadata": {
        "id": "faa96c15-2502-45db-a2b8-c3acb4ecd444"
      },
      "id": "faa96c15-2502-45db-a2b8-c3acb4ecd444"
    },
    {
      "cell_type": "markdown",
      "source": [
        "## Trees for classification\n",
        "\n",
        "In scikit-learn, the class [sklearn.tree.DecisionTreeClassifier](http://scikit-learn.org/stable/modules/generated/sklearn.tree.DecisionTreeClassifier.html) allows to perform a multi-class classification using a decision tree.\n",
        "\n",
        "We start by importing the right modules and building the tree object:"
      ],
      "metadata": {
        "id": "907021b3-d328-4d5e-bd67-af20e130e5ab"
      },
      "id": "907021b3-d328-4d5e-bd67-af20e130e5ab"
    },
    {
      "cell_type": "code",
      "source": [
        "# To install the last version of sklearn\n",
        "!pip install -U scikit-learn"
      ],
      "metadata": {
        "hide-output": false,
        "trusted": true,
        "colab": {
          "base_uri": "https://localhost:8080/"
        },
        "id": "772f22c3-3dae-4c5d-a1bc-ea9fbe3d3469",
        "outputId": "9d781059-a07b-4823-f727-46b5880c709c"
      },
      "execution_count": 1,
      "outputs": [
        {
          "output_type": "stream",
          "name": "stdout",
          "text": [
            "Looking in indexes: https://pypi.org/simple, https://us-python.pkg.dev/colab-wheels/public/simple/\n",
            "Requirement already satisfied: scikit-learn in /usr/local/lib/python3.7/dist-packages (1.0.2)\n",
            "Requirement already satisfied: joblib>=0.11 in /usr/local/lib/python3.7/dist-packages (from scikit-learn) (1.2.0)\n",
            "Requirement already satisfied: scipy>=1.1.0 in /usr/local/lib/python3.7/dist-packages (from scikit-learn) (1.7.3)\n",
            "Requirement already satisfied: numpy>=1.14.6 in /usr/local/lib/python3.7/dist-packages (from scikit-learn) (1.21.6)\n",
            "Requirement already satisfied: threadpoolctl>=2.0.0 in /usr/local/lib/python3.7/dist-packages (from scikit-learn) (3.1.0)\n"
          ]
        }
      ],
      "id": "772f22c3-3dae-4c5d-a1bc-ea9fbe3d3469"
    },
    {
      "cell_type": "code",
      "source": [
        "from sklearn import tree\n",
        "clf = tree.DecisionTreeClassifier()"
      ],
      "metadata": {
        "hide-output": false,
        "tags": [],
        "trusted": true,
        "id": "4cee8c3b-c47f-423b-bb3f-e1dc59ef85ef"
      },
      "execution_count": 2,
      "outputs": [],
      "id": "4cee8c3b-c47f-423b-bb3f-e1dc59ef85ef"
    },
    {
      "cell_type": "markdown",
      "source": [
        "For the example, we can define a minimalist dataset (two points, each in a class):"
      ],
      "metadata": {
        "id": "49ca425d-9f28-4648-8543-4451667dae47"
      },
      "id": "49ca425d-9f28-4648-8543-4451667dae47"
    },
    {
      "cell_type": "code",
      "source": [
        "X = [[0, 0], [1, 1]]\n",
        "y = [0, 1]"
      ],
      "metadata": {
        "hide-output": false,
        "trusted": true,
        "id": "6d81fcb3-7163-4443-a212-8b297d7e2040"
      },
      "execution_count": 3,
      "outputs": [],
      "id": "6d81fcb3-7163-4443-a212-8b297d7e2040"
    },
    {
      "cell_type": "markdown",
      "source": [
        "The tree is built using the `.fit(X, y)` method:"
      ],
      "metadata": {
        "id": "5287d25e-cd99-4efd-8909-755443f6a5fa"
      },
      "id": "5287d25e-cd99-4efd-8909-755443f6a5fa"
    },
    {
      "cell_type": "code",
      "source": [
        "clf = clf.fit(X, y)"
      ],
      "metadata": {
        "hide-output": false,
        "trusted": true,
        "id": "9b5c9a8b-a395-475e-9545-16406373b4a8"
      },
      "execution_count": 4,
      "outputs": [],
      "id": "9b5c9a8b-a395-475e-9545-16406373b4a8"
    },
    {
      "cell_type": "markdown",
      "source": [
        "Prediction on new samples is done in the usual way with `.predict(X)` :"
      ],
      "metadata": {
        "id": "b2bc0d21-a233-41f6-bddb-3a622c77d21a"
      },
      "id": "b2bc0d21-a233-41f6-bddb-3a622c77d21a"
    },
    {
      "cell_type": "code",
      "source": [
        "clf.predict([[2., 2.]])"
      ],
      "metadata": {
        "hide-output": false,
        "trusted": true,
        "colab": {
          "base_uri": "https://localhost:8080/"
        },
        "id": "0826edbf-3046-4f76-bea9-5b2bd483406a",
        "outputId": "8bb5434c-2f69-4a0d-c1fe-c719333099dc"
      },
      "execution_count": 5,
      "outputs": [
        {
          "output_type": "execute_result",
          "data": {
            "text/plain": [
              "array([1])"
            ]
          },
          "metadata": {},
          "execution_count": 5
        }
      ],
      "id": "0826edbf-3046-4f76-bea9-5b2bd483406a"
    },
    {
      "cell_type": "markdown",
      "source": [
        "One can also predict the probability of each class for a sample:"
      ],
      "metadata": {
        "id": "35f9a98f-8b35-4f0f-b3f1-9a0f41dfc96a"
      },
      "id": "35f9a98f-8b35-4f0f-b3f1-9a0f41dfc96a"
    },
    {
      "cell_type": "code",
      "source": [
        "clf.predict_proba([[2., 2.]])"
      ],
      "metadata": {
        "hide-output": false,
        "trusted": true,
        "colab": {
          "base_uri": "https://localhost:8080/"
        },
        "id": "20b4a96d-e050-45d1-a433-42167c18f68c",
        "outputId": "ee6ec43c-efd0-44cc-897c-f28cf2a7549a"
      },
      "execution_count": 6,
      "outputs": [
        {
          "output_type": "execute_result",
          "data": {
            "text/plain": [
              "array([[0., 1.]])"
            ]
          },
          "metadata": {},
          "execution_count": 6
        }
      ],
      "id": "20b4a96d-e050-45d1-a433-42167c18f68c"
    },
    {
      "cell_type": "markdown",
      "source": [
        "## Classification of Iris data\n",
        "\n",
        "`DecisionTreeClassifier` is able to handle multi-class classification problems (eg with labels 0, 1, … K-1). In this example we will work with the [Iris](https://archive.ics.uci.edu/ml/datasets/Iris) dataset, , easily accessible in `sklearn`. This dataset contains 150 instances of iris (a type of plant, each observation describes its morphology). The objective is to classify each instance into one of three categories: *Iris setosa*, *Iris virginica* or *Iris versicolor*.\n",
        "\n",
        "One of the classes is linearly separable with respect to the other two, but the other two are not separable with respect to each other.\n",
        "\n",
        "\n",
        "<dl style='margin: 20px 0;'>\n",
        "<dt>The attributes of the dataset are:</dt>\n",
        "<dd>\n",
        "- sepal length,  \n",
        "- sepal width,  \n",
        "- petal length,  \n",
        "- petal width, \n",
        "- class: Iris Setosa, Iris Versicolor or Iris Virginica. \n",
        "\n",
        "\n",
        "</dd>\n",
        "\n",
        "</dl>\n",
        "\n",
        "The Iris dataset being very common, scikit-learn offers a native function to load it into memory:"
      ],
      "metadata": {
        "tags": [],
        "id": "1b7f6859-fc75-450f-9f50-170d31b33b35"
      },
      "id": "1b7f6859-fc75-450f-9f50-170d31b33b35"
    },
    {
      "cell_type": "code",
      "source": [
        "from sklearn.datasets import load_iris\n",
        "\n",
        "iris = load_iris()\n",
        "X, y = iris.data, iris.target"
      ],
      "metadata": {
        "hide-output": false,
        "trusted": true,
        "id": "ffd30b2b-2a50-420a-b94e-26cf3d976ec4"
      },
      "execution_count": 7,
      "outputs": [],
      "id": "ffd30b2b-2a50-420a-b94e-26cf3d976ec4"
    },
    {
      "cell_type": "markdown",
      "source": [
        "## Question 1\n",
        "\n",
        "Calculate the statistics (mean and standard deviation) of the four explanatory variables: sepal length, sepal width, petal length and petal width."
      ],
      "metadata": {
        "id": "197b2147-237e-424b-a42e-bd5eee150413"
      },
      "id": "197b2147-237e-424b-a42e-bd5eee150413"
    },
    {
      "cell_type": "code",
      "source": [
        "import statistics\n",
        "\n",
        "sepalLength = []\n",
        "sepalWidth = [] \n",
        "petalLength = []\n",
        "petalWidth = []\n",
        "\n",
        "for item in iris.data:\n",
        "    sepalLength.append(item[0])\n",
        "    sepalWidth.append(item[1])\n",
        "    petalLength.append(item[2])\n",
        "    petalWidth.append(item[3])\n",
        "\n",
        "print(\"Sepal Length mean and standard deviation\")    \n",
        "print(statistics.mean(sepalLength))\n",
        "print(statistics.stdev(sepalLength))\n",
        "print(\"\\nSepal Width mean and standard deviation\")\n",
        "print(statistics.mean(sepalWidth))\n",
        "print(statistics.stdev(sepalWidth))\n",
        "print(\"\\nPetal Length mean and standard deviation\")\n",
        "print(statistics.mean(petalLength))\n",
        "print(statistics.stdev(petalLength))\n",
        "print(\"\\nPetal Width mean and standard deviation\")\n",
        "print(statistics.mean(petalWidth))\n",
        "print(statistics.stdev(petalWidth))\n"
      ],
      "metadata": {
        "trusted": true,
        "colab": {
          "base_uri": "https://localhost:8080/"
        },
        "id": "6b9127b1-0e0c-48a5-93e0-bbdbeea7d6dd",
        "outputId": "07dbaf08-8221-456e-d3a4-8935c4816ff4"
      },
      "execution_count": 8,
      "outputs": [
        {
          "output_type": "stream",
          "name": "stdout",
          "text": [
            "Sepal Length mean and standard deviation\n",
            "5.843333333333334\n",
            "0.8280661279778629\n",
            "\n",
            "Sepal Width mean and standard deviation\n",
            "3.0573333333333332\n",
            "0.4358662849366982\n",
            "\n",
            "Petal Length mean and standard deviation\n",
            "3.758\n",
            "1.7652982332594664\n",
            "\n",
            "Petal Width mean and standard deviation\n",
            "1.1993333333333334\n",
            "0.7622376689603465\n"
          ]
        }
      ],
      "id": "6b9127b1-0e0c-48a5-93e0-bbdbeea7d6dd"
    },
    {
      "cell_type": "markdown",
      "source": [
        "## Question 2\n",
        "\n",
        "How many examples of each class are there?"
      ],
      "metadata": {
        "tags": [],
        "id": "9ff5174f-643d-46ad-a2ab-e67ed88f7999"
      },
      "id": "9ff5174f-643d-46ad-a2ab-e67ed88f7999"
    },
    {
      "cell_type": "code",
      "source": [
        "setosa = 0\n",
        "versicolor = 0\n",
        "virginica = 0\n",
        "\n",
        "for item in iris.target:\n",
        "    if item == 0:\n",
        "       setosa += 1\n",
        "    elif item == 1:\n",
        "         versicolor += 1\n",
        "    else:\n",
        "         virginica += 1\n",
        "\n",
        "#end for\n",
        "print(\"Iris setosa:\", setosa)\n",
        "print(\"Iris versicolor:\", versicolor)\n",
        "print(\"Iris verginica:\", virginica)"
      ],
      "metadata": {
        "trusted": true,
        "colab": {
          "base_uri": "https://localhost:8080/"
        },
        "id": "9ea83a41-9269-4300-b382-a2ccb2f933a9",
        "outputId": "8a2aa838-30d1-4e53-9581-1c7cc8b4c00c"
      },
      "execution_count": 9,
      "outputs": [
        {
          "output_type": "stream",
          "name": "stdout",
          "text": [
            "Iris setosa: 50\n",
            "Iris versicolor: 50\n",
            "Iris verginica: 50\n"
          ]
        }
      ],
      "id": "9ea83a41-9269-4300-b382-a2ccb2f933a9"
    },
    {
      "cell_type": "markdown",
      "source": [
        "Before building the model, let's split the dataset into two: 70% for training, 30% for testing."
      ],
      "metadata": {
        "id": "2f9aef18-0370-4c55-b3c8-6ffb18375e8a"
      },
      "id": "2f9aef18-0370-4c55-b3c8-6ffb18375e8a"
    },
    {
      "cell_type": "code",
      "source": [
        "from sklearn.model_selection import train_test_split\n",
        "X_train, X_test, y_train, y_test = train_test_split(X, y, train_size=0.7, random_state=0)"
      ],
      "metadata": {
        "hide-output": false,
        "trusted": true,
        "id": "e497d49a-eb73-4b0c-8846-3805a466ee64"
      },
      "execution_count": 10,
      "outputs": [],
      "id": "e497d49a-eb73-4b0c-8846-3805a466ee64"
    },
    {
      "cell_type": "markdown",
      "source": [
        "We can now build a decision tree on this data:"
      ],
      "metadata": {
        "tags": [],
        "id": "b8b23780-f5bf-4cc7-9a95-6140275a2976"
      },
      "id": "b8b23780-f5bf-4cc7-9a95-6140275a2976"
    },
    {
      "cell_type": "code",
      "source": [
        "from sklearn import tree\n",
        "clf = tree.DecisionTreeClassifier()\n",
        "clf.fit(X_train, y_train)"
      ],
      "metadata": {
        "hide-output": false,
        "trusted": true,
        "colab": {
          "base_uri": "https://localhost:8080/"
        },
        "id": "1f3fb072-815a-45c2-a273-21fdbb826318",
        "outputId": "8bcacf2e-aafc-4db0-f659-63e9b4c198e0"
      },
      "execution_count": 11,
      "outputs": [
        {
          "output_type": "execute_result",
          "data": {
            "text/plain": [
              "DecisionTreeClassifier()"
            ]
          },
          "metadata": {},
          "execution_count": 11
        }
      ],
      "id": "1f3fb072-815a-45c2-a273-21fdbb826318"
    },
    {
      "cell_type": "markdown",
      "source": [
        "Once the training is finished, we can visualize the tree, either with  `matplotlib` using the `plot_tree` method, or with the  `graphviz` tool (dot command). For example, with  `matplotlib`:"
      ],
      "metadata": {
        "tags": [],
        "id": "51514231-2bbe-48e7-9588-7ccbccef0914"
      },
      "id": "51514231-2bbe-48e7-9588-7ccbccef0914"
    },
    {
      "cell_type": "code",
      "source": [
        "tree.plot_tree(clf, filled=True)"
      ],
      "metadata": {
        "hide-output": false,
        "tags": [],
        "trusted": true,
        "colab": {
          "base_uri": "https://localhost:8080/",
          "height": 474
        },
        "id": "52e45ed5-b513-4682-a8d2-f31fa8770ad0",
        "outputId": "e0348446-0e20-4424-e7e5-14c2b151c840"
      },
      "execution_count": 12,
      "outputs": [
        {
          "output_type": "execute_result",
          "data": {
            "text/plain": [
              "[Text(0.4, 0.9, 'X[3] <= 0.75\\ngini = 0.664\\nsamples = 105\\nvalue = [34, 32, 39]'),\n",
              " Text(0.3, 0.7, 'gini = 0.0\\nsamples = 34\\nvalue = [34, 0, 0]'),\n",
              " Text(0.5, 0.7, 'X[2] <= 4.95\\ngini = 0.495\\nsamples = 71\\nvalue = [0, 32, 39]'),\n",
              " Text(0.2, 0.5, 'X[3] <= 1.65\\ngini = 0.161\\nsamples = 34\\nvalue = [0, 31, 3]'),\n",
              " Text(0.1, 0.3, 'gini = 0.0\\nsamples = 30\\nvalue = [0, 30, 0]'),\n",
              " Text(0.3, 0.3, 'X[1] <= 3.1\\ngini = 0.375\\nsamples = 4\\nvalue = [0, 1, 3]'),\n",
              " Text(0.2, 0.1, 'gini = 0.0\\nsamples = 3\\nvalue = [0, 0, 3]'),\n",
              " Text(0.4, 0.1, 'gini = 0.0\\nsamples = 1\\nvalue = [0, 1, 0]'),\n",
              " Text(0.8, 0.5, 'X[2] <= 5.05\\ngini = 0.053\\nsamples = 37\\nvalue = [0, 1, 36]'),\n",
              " Text(0.7, 0.3, 'X[1] <= 2.75\\ngini = 0.375\\nsamples = 4\\nvalue = [0, 1, 3]'),\n",
              " Text(0.6, 0.1, 'gini = 0.0\\nsamples = 3\\nvalue = [0, 0, 3]'),\n",
              " Text(0.8, 0.1, 'gini = 0.0\\nsamples = 1\\nvalue = [0, 1, 0]'),\n",
              " Text(0.9, 0.3, 'gini = 0.0\\nsamples = 33\\nvalue = [0, 0, 33]')]"
            ]
          },
          "metadata": {},
          "execution_count": 12
        },
        {
          "output_type": "display_data",
          "data": {
            "text/plain": [
              "<Figure size 432x288 with 1 Axes>"
            ],
            "image/png": "[encoded data removed]"
          },
          "metadata": {
            "needs_background": "light"
          }
        }
      ],
      "id": "52e45ed5-b513-4682-a8d2-f31fa8770ad0"
    },
    {
      "cell_type": "markdown",
      "source": [
        "Alternatively, it is possible to export by producing a `.dot` file which is the default format of `graphviz`:"
      ],
      "metadata": {
        "id": "a6ce5708-4e71-4b3e-9bbf-00baa0f925eb"
      },
      "id": "a6ce5708-4e71-4b3e-9bbf-00baa0f925eb"
    },
    {
      "cell_type": "code",
      "source": [
        "# Export the graph to the iris.dot file\n",
        "with open(\"iris.dot\", 'w') as f:\n",
        "    f = tree.export_graphviz(clf, out_file=f, filled=True)"
      ],
      "metadata": {
        "hide-output": false,
        "tags": [],
        "trusted": true,
        "id": "b82437a6-c96e-4b92-9801-69a793fa2805"
      },
      "execution_count": 13,
      "outputs": [],
      "id": "b82437a6-c96e-4b92-9801-69a793fa2805"
    },
    {
      "cell_type": "markdown",
      "source": [
        "Then, on the command line, it is possible to convert this file into many formats, for example into PDF (shell command):"
      ],
      "metadata": {
        "id": "95fec4c9-9567-4202-89ec-6d6130115913"
      },
      "id": "95fec4c9-9567-4202-89ec-6d6130115913"
    },
    {
      "cell_type": "markdown",
      "source": [
        "## Note\n",
        "\n",
        "Currently, this command does not work on CNAM's JupyterHub because dot is not installed."
      ],
      "metadata": {
        "id": "8e86349a-dcf1-4d8d-8f8b-9bc410c30876"
      },
      "id": "8e86349a-dcf1-4d8d-8f8b-9bc410c30876"
    },
    {
      "cell_type": "markdown",
      "source": [
        "%%bash\n",
        "dot -Tpdf iris.dot -o iris.pdf"
      ],
      "metadata": {
        "hide-output": false,
        "id": "26b37341-01cf-4542-af6d-45bdfba2dbe8"
      },
      "id": "26b37341-01cf-4542-af6d-45bdfba2dbe8"
    },
    {
      "cell_type": "markdown",
      "source": [
        "The generated image should look like this:\n",
        "\n",
        " <img src=\"https://scikit-learn.org/stable/_images/iris.png\" style=\"width:100%;\">\n",
        "\n",
        "\n",
        "Once the model is built, it is possible to use it for prediction on new data:"
      ],
      "metadata": {
        "id": "0cfbc308-26a9-4b20-ad91-f2c2a408aeeb"
      },
      "id": "0cfbc308-26a9-4b20-ad91-f2c2a408aeeb"
    },
    {
      "cell_type": "code",
      "source": [
        "clf.predict(X_test)"
      ],
      "metadata": {
        "hide-output": false,
        "tags": [],
        "trusted": true,
        "colab": {
          "base_uri": "https://localhost:8080/"
        },
        "id": "6dbf64d0-f359-4353-b7df-19249f6ebb81",
        "outputId": "3d50df71-fff9-4cc2-e579-6cd7c54deed9"
      },
      "execution_count": 14,
      "outputs": [
        {
          "output_type": "execute_result",
          "data": {
            "text/plain": [
              "array([2, 1, 0, 2, 0, 2, 0, 1, 1, 1, 2, 1, 1, 1, 1, 0, 1, 1, 0, 0, 2, 1,\n",
              "       0, 0, 2, 0, 0, 1, 1, 0, 2, 1, 0, 2, 2, 1, 0, 2, 1, 1, 2, 0, 2, 0,\n",
              "       0])"
            ]
          },
          "metadata": {},
          "execution_count": 14
        }
      ],
      "id": "6dbf64d0-f359-4353-b7df-19249f6ebb81"
    },
    {
      "cell_type": "markdown",
      "source": [
        "The test score can be calculated this way:"
      ],
      "metadata": {
        "id": "be2b5ab2-8fa8-429d-a9a3-b50bf7e852ae"
      },
      "id": "be2b5ab2-8fa8-429d-a9a3-b50bf7e852ae"
    },
    {
      "cell_type": "code",
      "source": [
        "clf.score(X_test, y_test)"
      ],
      "metadata": {
        "hide-output": false,
        "trusted": true,
        "colab": {
          "base_uri": "https://localhost:8080/"
        },
        "id": "a3d29ac0-0c18-4575-af09-e590f68b484c",
        "outputId": "d9e48d17-a9d3-44b6-a0ed-9e7ba15eb43a"
      },
      "execution_count": 15,
      "outputs": [
        {
          "output_type": "execute_result",
          "data": {
            "text/plain": [
              "0.9777777777777777"
            ]
          },
          "metadata": {},
          "execution_count": 15
        }
      ],
      "id": "a3d29ac0-0c18-4575-af09-e590f68b484c"
    },
    {
      "cell_type": "markdown",
      "source": [
        "## Question 3:\n",
        "\n",
        "Change the `max_depth` and `min_samples_leaf` parameter values. What do you notice?"
      ],
      "metadata": {
        "id": "78903923-6d42-4367-a6f6-9faffd11dd0e"
      },
      "id": "78903923-6d42-4367-a6f6-9faffd11dd0e"
    },
    {
      "cell_type": "code",
      "source": [
        "from sklearn import tree\n",
        "\n",
        "clfChangeDepth = tree.DecisionTreeClassifier(max_depth=5)\n",
        "clfChangeDepth.fit(X_train, y_train)"
      ],
      "metadata": {
        "trusted": true,
        "colab": {
          "base_uri": "https://localhost:8080/"
        },
        "id": "1c23f428-3cf3-41b0-b9e4-0365f90ee191",
        "outputId": "2f16e185-a958-4521-8c26-e9421fd0d1cf"
      },
      "execution_count": 16,
      "outputs": [
        {
          "output_type": "execute_result",
          "data": {
            "text/plain": [
              "DecisionTreeClassifier(max_depth=5)"
            ]
          },
          "metadata": {},
          "execution_count": 16
        }
      ],
      "id": "1c23f428-3cf3-41b0-b9e4-0365f90ee191"
    },
    {
      "cell_type": "code",
      "source": [
        "tree.plot_tree(clfChangeDepth, filled=True)"
      ],
      "metadata": {
        "trusted": true,
        "colab": {
          "base_uri": "https://localhost:8080/",
          "height": 474
        },
        "id": "4d3da539-33ae-4824-a077-7f8fea2cb935",
        "outputId": "53cf1d26-7d94-4833-b2b3-b9d1f65dc159"
      },
      "execution_count": 17,
      "outputs": [
        {
          "output_type": "execute_result",
          "data": {
            "text/plain": [
              "[Text(0.4, 0.9, 'X[2] <= 2.35\\ngini = 0.664\\nsamples = 105\\nvalue = [34, 32, 39]'),\n",
              " Text(0.3, 0.7, 'gini = 0.0\\nsamples = 34\\nvalue = [34, 0, 0]'),\n",
              " Text(0.5, 0.7, 'X[2] <= 4.95\\ngini = 0.495\\nsamples = 71\\nvalue = [0, 32, 39]'),\n",
              " Text(0.2, 0.5, 'X[3] <= 1.65\\ngini = 0.161\\nsamples = 34\\nvalue = [0, 31, 3]'),\n",
              " Text(0.1, 0.3, 'gini = 0.0\\nsamples = 30\\nvalue = [0, 30, 0]'),\n",
              " Text(0.3, 0.3, 'X[1] <= 3.1\\ngini = 0.375\\nsamples = 4\\nvalue = [0, 1, 3]'),\n",
              " Text(0.2, 0.1, 'gini = 0.0\\nsamples = 3\\nvalue = [0, 0, 3]'),\n",
              " Text(0.4, 0.1, 'gini = 0.0\\nsamples = 1\\nvalue = [0, 1, 0]'),\n",
              " Text(0.8, 0.5, 'X[3] <= 1.75\\ngini = 0.053\\nsamples = 37\\nvalue = [0, 1, 36]'),\n",
              " Text(0.7, 0.3, 'X[3] <= 1.65\\ngini = 0.375\\nsamples = 4\\nvalue = [0, 1, 3]'),\n",
              " Text(0.6, 0.1, 'gini = 0.0\\nsamples = 3\\nvalue = [0, 0, 3]'),\n",
              " Text(0.8, 0.1, 'gini = 0.0\\nsamples = 1\\nvalue = [0, 1, 0]'),\n",
              " Text(0.9, 0.3, 'gini = 0.0\\nsamples = 33\\nvalue = [0, 0, 33]')]"
            ]
          },
          "metadata": {},
          "execution_count": 17
        },
        {
          "output_type": "display_data",
          "data": {
            "text/plain": [
              "<Figure size 432x288 with 1 Axes>"
            ],
            "image/png": "[encoded data removed]"
          },
          "metadata": {
            "needs_background": "light"
          }
        }
      ],
      "id": "4d3da539-33ae-4824-a077-7f8fea2cb935"
    },
    {
      "cell_type": "code",
      "source": [
        "clfChangeDepth.predict(X_test)"
      ],
      "metadata": {
        "trusted": true,
        "colab": {
          "base_uri": "https://localhost:8080/"
        },
        "id": "e1e2c0a0-5daa-4845-a108-7e6f5c0107f3",
        "outputId": "cf7b71df-eadb-4e23-e160-59b7f4130d9a"
      },
      "execution_count": 18,
      "outputs": [
        {
          "output_type": "execute_result",
          "data": {
            "text/plain": [
              "array([2, 1, 0, 2, 0, 2, 0, 1, 1, 1, 2, 1, 1, 1, 1, 0, 1, 1, 0, 0, 2, 1,\n",
              "       0, 0, 2, 0, 0, 1, 1, 0, 2, 1, 0, 2, 2, 1, 0, 2, 1, 1, 2, 0, 2, 0,\n",
              "       0])"
            ]
          },
          "metadata": {},
          "execution_count": 18
        }
      ],
      "id": "e1e2c0a0-5daa-4845-a108-7e6f5c0107f3"
    },
    {
      "cell_type": "code",
      "source": [
        "clfChangeDepth.score(X_test, y_test)"
      ],
      "metadata": {
        "trusted": true,
        "colab": {
          "base_uri": "https://localhost:8080/"
        },
        "id": "5ecf2f96-c46a-4600-a77c-e41f51ccb3f7",
        "outputId": "0da06c8f-607f-4e31-d8c9-a8aa48c94c60"
      },
      "execution_count": 19,
      "outputs": [
        {
          "output_type": "execute_result",
          "data": {
            "text/plain": [
              "0.9777777777777777"
            ]
          },
          "metadata": {},
          "execution_count": 19
        }
      ],
      "id": "5ecf2f96-c46a-4600-a77c-e41f51ccb3f7"
    },
    {
      "cell_type": "code",
      "source": [
        "clfChangeMinSample = tree.DecisionTreeClassifier(min_samples_leaf = 3)\n",
        "clfChangeMinSample.fit(X_train, y_train)"
      ],
      "metadata": {
        "trusted": true,
        "colab": {
          "base_uri": "https://localhost:8080/"
        },
        "id": "ba31144b-156a-4ab7-a996-58732c33aca6",
        "outputId": "a7607d18-7463-4591-abc0-15e48e4a5790"
      },
      "execution_count": 20,
      "outputs": [
        {
          "output_type": "execute_result",
          "data": {
            "text/plain": [
              "DecisionTreeClassifier(min_samples_leaf=3)"
            ]
          },
          "metadata": {},
          "execution_count": 20
        }
      ],
      "id": "ba31144b-156a-4ab7-a996-58732c33aca6"
    },
    {
      "cell_type": "code",
      "source": [
        "tree.plot_tree(clfChangeMinSample, filled = True)"
      ],
      "metadata": {
        "trusted": true,
        "colab": {
          "base_uri": "https://localhost:8080/",
          "height": 404
        },
        "id": "c37bb6aa-6b41-420d-85cb-1164f18a6d2d",
        "outputId": "1974c8e7-1fc1-4734-d8d5-ef69786f9dac"
      },
      "execution_count": 21,
      "outputs": [
        {
          "output_type": "execute_result",
          "data": {
            "text/plain": [
              "[Text(0.375, 0.875, 'X[3] <= 0.75\\ngini = 0.664\\nsamples = 105\\nvalue = [34, 32, 39]'),\n",
              " Text(0.25, 0.625, 'gini = 0.0\\nsamples = 34\\nvalue = [34, 0, 0]'),\n",
              " Text(0.5, 0.625, 'X[2] <= 4.95\\ngini = 0.495\\nsamples = 71\\nvalue = [0, 32, 39]'),\n",
              " Text(0.25, 0.375, 'X[3] <= 1.65\\ngini = 0.161\\nsamples = 34\\nvalue = [0, 31, 3]'),\n",
              " Text(0.125, 0.125, 'gini = 0.0\\nsamples = 30\\nvalue = [0, 30, 0]'),\n",
              " Text(0.375, 0.125, 'gini = 0.375\\nsamples = 4\\nvalue = [0, 1, 3]'),\n",
              " Text(0.75, 0.375, 'X[2] <= 5.05\\ngini = 0.053\\nsamples = 37\\nvalue = [0, 1, 36]'),\n",
              " Text(0.625, 0.125, 'gini = 0.375\\nsamples = 4\\nvalue = [0, 1, 3]'),\n",
              " Text(0.875, 0.125, 'gini = 0.0\\nsamples = 33\\nvalue = [0, 0, 33]')]"
            ]
          },
          "metadata": {},
          "execution_count": 21
        },
        {
          "output_type": "display_data",
          "data": {
            "text/plain": [
              "<Figure size 432x288 with 1 Axes>"
            ],
            "image/png": "[encoded data removed]"
          },
          "metadata": {
            "needs_background": "light"
          }
        }
      ],
      "id": "c37bb6aa-6b41-420d-85cb-1164f18a6d2d"
    },
    {
      "cell_type": "code",
      "source": [
        "predictions = clfChangeMinSample.predict(X_test)\n",
        "print(predictions)"
      ],
      "metadata": {
        "trusted": true,
        "id": "9cc4a23e-9b39-43ee-96fc-9c5fde8458fa",
        "colab": {
          "base_uri": "https://localhost:8080/"
        },
        "outputId": "7a0ddb4d-2480-4e62-a356-5fe1a27d294d"
      },
      "execution_count": 22,
      "outputs": [
        {
          "output_type": "stream",
          "name": "stdout",
          "text": [
            "[2 1 0 2 0 2 0 1 1 1 2 1 1 1 1 0 1 1 0 0 2 1 0 0 2 0 0 1 1 0 2 1 0 2 2 1 0\n",
            " 2 1 1 2 0 2 0 0]\n"
          ]
        }
      ],
      "id": "9cc4a23e-9b39-43ee-96fc-9c5fde8458fa"
    },
    {
      "cell_type": "code",
      "source": [
        "clfChangeMinSample.score(X_test, y_test)"
      ],
      "metadata": {
        "trusted": true,
        "colab": {
          "base_uri": "https://localhost:8080/"
        },
        "id": "cbf1ea96-5a27-4a1f-8a68-01f6e8c4ac94",
        "outputId": "a06ff729-c1a9-4323-e97a-eac1ad732572"
      },
      "execution_count": 23,
      "outputs": [
        {
          "output_type": "execute_result",
          "data": {
            "text/plain": [
              "0.9777777777777777"
            ]
          },
          "metadata": {},
          "execution_count": 23
        }
      ],
      "id": "cbf1ea96-5a27-4a1f-8a68-01f6e8c4ac94"
    },
    {
      "cell_type": "code",
      "source": [
        "from sklearn.metrics import classification_report\n",
        "\n",
        "print(classification_report(y_test, predictions)) "
      ],
      "metadata": {
        "trusted": true,
        "colab": {
          "base_uri": "https://localhost:8080/"
        },
        "id": "59bcc848-fcf5-427e-b371-da1e5fab400a",
        "outputId": "de73e325-fcbb-470e-f4c4-a1081a52d646"
      },
      "execution_count": 24,
      "outputs": [
        {
          "output_type": "stream",
          "name": "stdout",
          "text": [
            "              precision    recall  f1-score   support\n",
            "\n",
            "           0       1.00      1.00      1.00        16\n",
            "           1       1.00      0.94      0.97        18\n",
            "           2       0.92      1.00      0.96        11\n",
            "\n",
            "    accuracy                           0.98        45\n",
            "   macro avg       0.97      0.98      0.98        45\n",
            "weighted avg       0.98      0.98      0.98        45\n",
            "\n"
          ]
        }
      ],
      "id": "59bcc848-fcf5-427e-b371-da1e5fab400a"
    },
    {
      "cell_type": "markdown",
      "source": [
        "## Question 4:\n",
        "\n",
        "The problem here being particularly simple, redo a training/test division with 5% of the data in training and 95% test. \n",
        "Calculate the rate of misclassified items on the test set. \n",
        "Vary (or better, perform a grid search with `GridSearchCV`) the values of the `max_depth` and `min_samples_leaf` parameters to measure their impact on this score."
      ],
      "metadata": {
        "id": "1cd7db1f-d1b4-4fcc-9ad7-ef56ab6c6687"
      },
      "id": "1cd7db1f-d1b4-4fcc-9ad7-ef56ab6c6687"
    },
    {
      "cell_type": "code",
      "source": [
        "from sklearn.model_selection import train_test_split\n",
        "from sklearn import tree\n",
        "\n",
        "X_train5, X_test95, y_train5, y_test95 = train_test_split(X, y, train_size=0.05, random_state=0)\n",
        "\n",
        "maxDepthScores = []\n",
        "#iterate over max_depth\n",
        "for i in range(1,50):\n",
        "    clf = tree.DecisionTreeClassifier(max_depth=i)\n",
        "    clf.fit(X_train5, y_train5)\n",
        "    temp = clf.score(X_test95, y_test95)\n",
        "    tup = (temp, i)\n",
        "    maxDepthScores.append(tup)\n",
        "\n",
        "maxDepthScores.sort()\n",
        "for item in maxDepthScores:\n",
        "    print(item)"
      ],
      "metadata": {
        "trusted": true,
        "colab": {
          "base_uri": "https://localhost:8080/"
        },
        "id": "7bc9f194-d453-4fb7-95cd-320364019c6e",
        "outputId": "cb33e139-d40d-4bb7-9819-29a4d0f3374b"
      },
      "execution_count": 25,
      "outputs": [
        {
          "output_type": "stream",
          "name": "stdout",
          "text": [
            "(0.6013986013986014, 5)\n",
            "(0.6013986013986014, 12)\n",
            "(0.6013986013986014, 13)\n",
            "(0.6573426573426573, 1)\n",
            "(0.6643356643356644, 29)\n",
            "(0.7062937062937062, 4)\n",
            "(0.7062937062937062, 9)\n",
            "(0.7062937062937062, 15)\n",
            "(0.7062937062937062, 22)\n",
            "(0.7062937062937062, 30)\n",
            "(0.7062937062937062, 43)\n",
            "(0.7552447552447552, 8)\n",
            "(0.7552447552447552, 19)\n",
            "(0.7552447552447552, 23)\n",
            "(0.7552447552447552, 24)\n",
            "(0.7552447552447552, 32)\n",
            "(0.7552447552447552, 37)\n",
            "(0.7552447552447552, 38)\n",
            "(0.7972027972027972, 7)\n",
            "(0.7972027972027972, 26)\n",
            "(0.7972027972027972, 35)\n",
            "(0.8111888111888111, 27)\n",
            "(0.8111888111888111, 36)\n",
            "(0.8111888111888111, 40)\n",
            "(0.8111888111888111, 42)\n",
            "(0.8111888111888111, 44)\n",
            "(0.8111888111888111, 46)\n",
            "(0.8881118881118881, 3)\n",
            "(0.8881118881118881, 16)\n",
            "(0.8881118881118881, 18)\n",
            "(0.8881118881118881, 25)\n",
            "(0.8881118881118881, 33)\n",
            "(0.8881118881118881, 34)\n",
            "(0.8881118881118881, 41)\n",
            "(0.8881118881118881, 45)\n",
            "(0.8881118881118881, 47)\n",
            "(0.8881118881118881, 48)\n",
            "(0.8881118881118881, 49)\n",
            "(0.951048951048951, 2)\n",
            "(0.951048951048951, 6)\n",
            "(0.951048951048951, 10)\n",
            "(0.951048951048951, 11)\n",
            "(0.951048951048951, 14)\n",
            "(0.951048951048951, 17)\n",
            "(0.951048951048951, 20)\n",
            "(0.951048951048951, 21)\n",
            "(0.951048951048951, 28)\n",
            "(0.951048951048951, 31)\n",
            "(0.951048951048951, 39)\n"
          ]
        }
      ],
      "id": "7bc9f194-d453-4fb7-95cd-320364019c6e"
    },
    {
      "cell_type": "code",
      "source": [
        "from sklearn.model_selection import train_test_split\n",
        "from sklearn import tree\n",
        "\n",
        "X_train5, X_test95, y_train5, y_test95 = train_test_split(X, y, train_size=0.05, random_state=0)\n",
        "\n",
        "minSampleScores = []\n",
        "\n",
        "#iterate over min_samples_leaf\n",
        "for i in range(2,50):\n",
        "    clf = tree.DecisionTreeClassifier(min_samples_leaf=i)\n",
        "    clf.fit(X_train5, y_train5)\n",
        "    temp = clf.score(X_test95, y_test95)\n",
        "    tup = (temp, i)\n",
        "    minSampleScores.append(tup)\n",
        "\n",
        "minSampleScores.sort()\n",
        "\n",
        "for item in minSampleScores:\n",
        "    print(item)"
      ],
      "metadata": {
        "trusted": true,
        "colab": {
          "base_uri": "https://localhost:8080/"
        },
        "id": "ec320006-d30e-4ce1-935c-c80ca51cb9fa",
        "outputId": "a3edab48-ee24-485e-8ca4-14427add218a"
      },
      "execution_count": 26,
      "outputs": [
        {
          "output_type": "stream",
          "name": "stdout",
          "text": [
            "(0.32167832167832167, 4)\n",
            "(0.32167832167832167, 5)\n",
            "(0.32167832167832167, 6)\n",
            "(0.32167832167832167, 7)\n",
            "(0.32167832167832167, 8)\n",
            "(0.32167832167832167, 9)\n",
            "(0.32167832167832167, 10)\n",
            "(0.32167832167832167, 11)\n",
            "(0.32167832167832167, 12)\n",
            "(0.32167832167832167, 13)\n",
            "(0.32167832167832167, 14)\n",
            "(0.32167832167832167, 15)\n",
            "(0.32167832167832167, 16)\n",
            "(0.32167832167832167, 17)\n",
            "(0.32167832167832167, 18)\n",
            "(0.32167832167832167, 19)\n",
            "(0.32167832167832167, 20)\n",
            "(0.32167832167832167, 21)\n",
            "(0.32167832167832167, 22)\n",
            "(0.32167832167832167, 23)\n",
            "(0.32167832167832167, 24)\n",
            "(0.32167832167832167, 25)\n",
            "(0.32167832167832167, 26)\n",
            "(0.32167832167832167, 27)\n",
            "(0.32167832167832167, 28)\n",
            "(0.32167832167832167, 29)\n",
            "(0.32167832167832167, 30)\n",
            "(0.32167832167832167, 31)\n",
            "(0.32167832167832167, 32)\n",
            "(0.32167832167832167, 33)\n",
            "(0.32167832167832167, 34)\n",
            "(0.32167832167832167, 35)\n",
            "(0.32167832167832167, 36)\n",
            "(0.32167832167832167, 37)\n",
            "(0.32167832167832167, 38)\n",
            "(0.32167832167832167, 39)\n",
            "(0.32167832167832167, 40)\n",
            "(0.32167832167832167, 41)\n",
            "(0.32167832167832167, 42)\n",
            "(0.32167832167832167, 43)\n",
            "(0.32167832167832167, 44)\n",
            "(0.32167832167832167, 45)\n",
            "(0.32167832167832167, 46)\n",
            "(0.32167832167832167, 47)\n",
            "(0.32167832167832167, 48)\n",
            "(0.32167832167832167, 49)\n",
            "(0.6223776223776224, 2)\n",
            "(0.6573426573426573, 3)\n"
          ]
        }
      ],
      "id": "ec320006-d30e-4ce1-935c-c80ca51cb9fa"
    },
    {
      "cell_type": "markdown",
      "source": [
        "###   Display of the decision surface\n",
        "\n",
        "For a pair of attributes, i.e., for two-dimensional observations, we can visualize the decision surface in 2 dimensions. First, we discretize the two-dimensional domain with a constant step and then we evaluate the model on each point of the grid.\n",
        "\n",
        "\n",
        "In this example, we only keep the length and width of the petals."
      ],
      "metadata": {
        "id": "1a555e76-32b1-448b-bbf1-9fa9c222da00"
      },
      "id": "1a555e76-32b1-448b-bbf1-9fa9c222da00"
    },
    {
      "cell_type": "code",
      "source": [
        "import numpy as np\n",
        "import matplotlib.pyplot as plt\n",
        "\n",
        "# Settings\n",
        "n_classes = 3\n",
        "plot_colors = \"bry\" # blue-red-yellow\n",
        "plot_step = 0.02\n",
        "\n",
        "# Choose the length and width attributes of the petals\n",
        "pair = [2, 3]\n",
        "\n",
        "# We only keep the two attributes\n",
        "X = iris.data[:, pair]\n",
        "y = iris.target\n",
        "\n",
        "# Tree learning\n",
        "clf = tree.DecisionTreeClassifier().fit(X, y)\n",
        "\n",
        "# Display of the decision surface\n",
        "x_min, x_max = X[:, 0].min() - 1, X[:, 0].max() + 1\n",
        "y_min, y_max = X[:, 1].min() - 1, X[:, 1].max() + 1\n",
        "xx, yy = np.meshgrid(np.arange(x_min, x_max, plot_step), np.arange(y_min, y_max, plot_step))\n",
        "Z = clf.predict(np.c_[xx.ravel(), yy.ravel()])\n",
        "Z = Z.reshape(xx.shape)\n",
        "cs = plt.contourf(xx, yy, Z, cmap=plt.cm.Paired)\n",
        "plt.xlabel(iris.feature_names[pair[0]])\n",
        "plt.ylabel(iris.feature_names[pair[1]])\n",
        "plt.axis(\"tight\")\n",
        "\n",
        "# Display of learning points\n",
        "for i, color in zip(range(n_classes), plot_colors):\n",
        "    idx = np.where(y == i)\n",
        "    plt.scatter(X[idx, 0], X[idx, 1], c=color, label=iris.target_names[i], cmap=plt.cm.Paired)\n",
        "plt.axis(\"tight\")\n",
        "plt.suptitle(\"Decision surface of a decision tree using paired features\")\n",
        "plt.legend()\n",
        "plt.show()"
      ],
      "metadata": {
        "hide-output": false,
        "trusted": true,
        "colab": {
          "base_uri": "https://localhost:8080/",
          "height": 308
        },
        "id": "77d1a361-5c9b-4afb-8bfb-e9ae08fc12ab",
        "outputId": "eaed53e6-d6ed-4799-ec5e-4bd8f4957d08"
      },
      "execution_count": 27,
      "outputs": [
        {
          "output_type": "display_data",
          "data": {
            "text/plain": [
              "<Figure size 432x288 with 1 Axes>"
            ],
            "image/png": "[encoded data removed]"
          },
          "metadata": {
            "needs_background": "light"
          }
        }
      ],
      "id": "77d1a361-5c9b-4afb-8bfb-e9ae08fc12ab"
    },
    {
      "cell_type": "markdown",
      "source": [
        "### Question 5:\n",
        "\n",
        "Redo the display for the other pairs of attributes. On which pair is the separation between the classes the most marked?"
      ],
      "metadata": {
        "id": "5c6538cc-8541-4413-abc8-722107d2e243"
      },
      "id": "5c6538cc-8541-4413-abc8-722107d2e243"
    },
    {
      "cell_type": "code",
      "source": [
        "import numpy as np\n",
        "import matplotlib.pyplot as plt\n",
        "\n",
        "# Settings\n",
        "n_classes = 3\n",
        "plot_colors = \"bry\" # blue-red-yellow\n",
        "plot_step = 0.02\n",
        "\n",
        "# Choose the length and width attributes of the sepals\n",
        "pair = [0,1]\n",
        "\n",
        "# We only keep the two attributes\n",
        "X = iris.data[:, pair]\n",
        "y = iris.target\n",
        "\n",
        "# Tree learning\n",
        "clf = tree.DecisionTreeClassifier().fit(X, y)\n",
        "\n",
        "# Display of the decision surface\n",
        "x_min, x_max = X[:, 0].min() - 1, X[:, 0].max() + 1\n",
        "y_min, y_max = X[:, 1].min() - 1, X[:, 1].max() + 1\n",
        "xx, yy = np.meshgrid(np.arange(x_min, x_max, plot_step), np.arange(y_min, y_max, plot_step))\n",
        "Z = clf.predict(np.c_[xx.ravel(), yy.ravel()])\n",
        "Z = Z.reshape(xx.shape)\n",
        "cs = plt.contourf(xx, yy, Z, cmap=plt.cm.Paired)\n",
        "plt.xlabel(iris.feature_names[pair[0]])\n",
        "plt.ylabel(iris.feature_names[pair[1]])\n",
        "plt.axis(\"tight\")\n",
        "\n",
        "# Display of learning points\n",
        "for i, color in zip(range(n_classes), plot_colors):\n",
        "    idx = np.where(y == i)\n",
        "    plt.scatter(X[idx, 0], X[idx, 1], c=color, label=iris.target_names[i], cmap=plt.cm.Paired)\n",
        "plt.axis(\"tight\")\n",
        "plt.suptitle(\"Decision surface of a decision tree using attributes 0,1\")\n",
        "plt.legend()\n",
        "plt.show()"
      ],
      "metadata": {
        "trusted": true,
        "colab": {
          "base_uri": "https://localhost:8080/",
          "height": 308
        },
        "id": "e061b095-27f0-4257-9832-4377cd42e596",
        "outputId": "e36a0e5d-f8ef-4c97-e2ef-e9b4975ed08b"
      },
      "execution_count": 28,
      "outputs": [
        {
          "output_type": "display_data",
          "data": {
            "text/plain": [
              "<Figure size 432x288 with 1 Axes>"
            ],
            "image/png": "[encoded data removed]"
          },
          "metadata": {
            "needs_background": "light"
          }
        }
      ],
      "id": "e061b095-27f0-4257-9832-4377cd42e596"
    },
    {
      "cell_type": "code",
      "source": [
        "import numpy as np\n",
        "import matplotlib.pyplot as plt\n",
        "\n",
        "# Settings\n",
        "n_classes = 3\n",
        "plot_colors = \"bry\" # blue-red-yellow\n",
        "plot_step = 0.02\n",
        "\n",
        "# Choose the length and width attributes of the petals\n",
        "pair = [0, 2]\n",
        "\n",
        "# We only keep the two attributes\n",
        "X = iris.data[:, pair]\n",
        "y = iris.target\n",
        "\n",
        "# Tree learning\n",
        "clf = tree.DecisionTreeClassifier().fit(X, y)\n",
        "\n",
        "# Display of the decision surface\n",
        "x_min, x_max = X[:, 0].min() - 1, X[:, 0].max() + 1\n",
        "y_min, y_max = X[:, 1].min() - 1, X[:, 1].max() + 1\n",
        "xx, yy = np.meshgrid(np.arange(x_min, x_max, plot_step), np.arange(y_min, y_max, plot_step))\n",
        "Z = clf.predict(np.c_[xx.ravel(), yy.ravel()])\n",
        "Z = Z.reshape(xx.shape)\n",
        "cs = plt.contourf(xx, yy, Z, cmap=plt.cm.Paired)\n",
        "plt.xlabel(iris.feature_names[pair[0]])\n",
        "plt.ylabel(iris.feature_names[pair[1]])\n",
        "plt.axis(\"tight\")\n",
        "\n",
        "# Display of learning points\n",
        "for i, color in zip(range(n_classes), plot_colors):\n",
        "    idx = np.where(y == i)\n",
        "    plt.scatter(X[idx, 0], X[idx, 1], c=color, label=iris.target_names[i], cmap=plt.cm.Paired)\n",
        "plt.axis(\"tight\")\n",
        "plt.suptitle(\"Decision surface of a decision tree using attributes 0,2\")\n",
        "plt.legend()\n",
        "plt.show()"
      ],
      "metadata": {
        "trusted": true,
        "colab": {
          "base_uri": "https://localhost:8080/",
          "height": 308
        },
        "id": "73abfff9-31be-4c65-86fd-37cc296e49dc",
        "outputId": "8da6e0ed-647a-477f-b7c4-9b79dedb7f29"
      },
      "execution_count": 29,
      "outputs": [
        {
          "output_type": "display_data",
          "data": {
            "text/plain": [
              "<Figure size 432x288 with 1 Axes>"
            ],
            "image/png": "[encoded data removed]"
          },
          "metadata": {
            "needs_background": "light"
          }
        }
      ],
      "id": "73abfff9-31be-4c65-86fd-37cc296e49dc"
    },
    {
      "cell_type": "code",
      "source": [
        "import numpy as np\n",
        "import matplotlib.pyplot as plt\n",
        "\n",
        "# Settings\n",
        "n_classes = 3\n",
        "plot_colors = \"bry\" # blue-red-yellow\n",
        "plot_step = 0.02\n",
        "\n",
        "# Choose the length and width attributes of the petals\n",
        "pair = [0, 3]\n",
        "\n",
        "# We only keep the two attributes\n",
        "X = iris.data[:, pair]\n",
        "y = iris.target\n",
        "\n",
        "# Tree learning\n",
        "clf = tree.DecisionTreeClassifier().fit(X, y)\n",
        "\n",
        "# Display of the decision surface\n",
        "x_min, x_max = X[:, 0].min() - 1, X[:, 0].max() + 1\n",
        "y_min, y_max = X[:, 1].min() - 1, X[:, 1].max() + 1\n",
        "xx, yy = np.meshgrid(np.arange(x_min, x_max, plot_step), np.arange(y_min, y_max, plot_step))\n",
        "Z = clf.predict(np.c_[xx.ravel(), yy.ravel()])\n",
        "Z = Z.reshape(xx.shape)\n",
        "cs = plt.contourf(xx, yy, Z, cmap=plt.cm.Paired)\n",
        "plt.xlabel(iris.feature_names[pair[0]])\n",
        "plt.ylabel(iris.feature_names[pair[1]])\n",
        "plt.axis(\"tight\")\n",
        "\n",
        "# Display of learning points\n",
        "for i, color in zip(range(n_classes), plot_colors):\n",
        "    idx = np.where(y == i)\n",
        "    plt.scatter(X[idx, 0], X[idx, 1], c=color, label=iris.target_names[i], cmap=plt.cm.Paired)\n",
        "plt.axis(\"tight\")\n",
        "plt.suptitle(\"Decision surface of a decision tree using attributes 0,3\")\n",
        "plt.legend()\n",
        "plt.show()"
      ],
      "metadata": {
        "trusted": true,
        "colab": {
          "base_uri": "https://localhost:8080/",
          "height": 308
        },
        "id": "babff4a5-b620-4cf7-b569-14327bdf9c45",
        "outputId": "94a79851-ceb3-4549-ed35-846448f1a696"
      },
      "execution_count": 30,
      "outputs": [
        {
          "output_type": "display_data",
          "data": {
            "text/plain": [
              "<Figure size 432x288 with 1 Axes>"
            ],
            "image/png": "[encoded data removed]"
          },
          "metadata": {
            "needs_background": "light"
          }
        }
      ],
      "id": "babff4a5-b620-4cf7-b569-14327bdf9c45"
    },
    {
      "cell_type": "code",
      "source": [
        "import numpy as np\n",
        "import matplotlib.pyplot as plt\n",
        "\n",
        "# Settings\n",
        "n_classes = 3\n",
        "plot_colors = \"bry\" # blue-red-yellow\n",
        "plot_step = 0.02\n",
        "\n",
        "# Choose the length and width attributes of the petals\n",
        "pair = [1, 2]\n",
        "\n",
        "# We only keep the two attributes\n",
        "X = iris.data[:, pair]\n",
        "y = iris.target\n",
        "\n",
        "# Tree learning\n",
        "clf = tree.DecisionTreeClassifier().fit(X, y)\n",
        "\n",
        "# Display of the decision surface\n",
        "x_min, x_max = X[:, 0].min() - 1, X[:, 0].max() + 1\n",
        "y_min, y_max = X[:, 1].min() - 1, X[:, 1].max() + 1\n",
        "xx, yy = np.meshgrid(np.arange(x_min, x_max, plot_step), np.arange(y_min, y_max, plot_step))\n",
        "Z = clf.predict(np.c_[xx.ravel(), yy.ravel()])\n",
        "Z = Z.reshape(xx.shape)\n",
        "cs = plt.contourf(xx, yy, Z, cmap=plt.cm.Paired)\n",
        "plt.xlabel(iris.feature_names[pair[0]])\n",
        "plt.ylabel(iris.feature_names[pair[1]])\n",
        "plt.axis(\"tight\")\n",
        "\n",
        "# Display of learning points\n",
        "for i, color in zip(range(n_classes), plot_colors):\n",
        "    idx = np.where(y == i)\n",
        "    plt.scatter(X[idx, 0], X[idx, 1], c=color, label=iris.target_names[i], cmap=plt.cm.Paired)\n",
        "plt.axis(\"tight\")\n",
        "plt.suptitle(\"Decision surface of a decision tree using attributes 1,2\")\n",
        "plt.legend()\n",
        "plt.show()"
      ],
      "metadata": {
        "trusted": true,
        "colab": {
          "base_uri": "https://localhost:8080/",
          "height": 308
        },
        "id": "ad4957b9-a606-412a-8868-a3719a534e7b",
        "outputId": "c09f7570-6e08-4ada-8ff0-ee1eac18eb09"
      },
      "execution_count": 31,
      "outputs": [
        {
          "output_type": "display_data",
          "data": {
            "text/plain": [
              "<Figure size 432x288 with 1 Axes>"
            ],
            "image/png": "[encoded data removed]"
          },
          "metadata": {
            "needs_background": "light"
          }
        }
      ],
      "id": "ad4957b9-a606-412a-8868-a3719a534e7b"
    },
    {
      "cell_type": "code",
      "source": [
        "import numpy as np\n",
        "import matplotlib.pyplot as plt\n",
        "\n",
        "# Settings\n",
        "n_classes = 3\n",
        "plot_colors = \"bry\" # blue-red-yellow\n",
        "plot_step = 0.02\n",
        "\n",
        "# Choose the length and width attributes of the petals\n",
        "pair = [1, 3]\n",
        "\n",
        "# We only keep the two attributes\n",
        "X = iris.data[:, pair]\n",
        "y = iris.target\n",
        "\n",
        "# Tree learning\n",
        "clf = tree.DecisionTreeClassifier().fit(X, y)\n",
        "\n",
        "# Display of the decision surface\n",
        "x_min, x_max = X[:, 0].min() - 1, X[:, 0].max() + 1\n",
        "y_min, y_max = X[:, 1].min() - 1, X[:, 1].max() + 1\n",
        "xx, yy = np.meshgrid(np.arange(x_min, x_max, plot_step), np.arange(y_min, y_max, plot_step))\n",
        "Z = clf.predict(np.c_[xx.ravel(), yy.ravel()])\n",
        "Z = Z.reshape(xx.shape)\n",
        "cs = plt.contourf(xx, yy, Z, cmap=plt.cm.Paired)\n",
        "plt.xlabel(iris.feature_names[pair[0]])\n",
        "plt.ylabel(iris.feature_names[pair[1]])\n",
        "plt.axis(\"tight\")\n",
        "\n",
        "# Display of learning points\n",
        "for i, color in zip(range(n_classes), plot_colors):\n",
        "    idx = np.where(y == i)\n",
        "    plt.scatter(X[idx, 0], X[idx, 1], c=color, label=iris.target_names[i], cmap=plt.cm.Paired)\n",
        "plt.axis(\"tight\")\n",
        "plt.suptitle(\"Decision surface of a decision tree using attributes 1,3\")\n",
        "plt.legend()\n",
        "plt.show()"
      ],
      "metadata": {
        "trusted": true,
        "colab": {
          "base_uri": "https://localhost:8080/",
          "height": 308
        },
        "id": "fca4f4d2-1bee-4a79-9930-28c1aa434be1",
        "outputId": "14fbcfa7-0033-49e8-f0ed-c5bf64a27034"
      },
      "execution_count": 32,
      "outputs": [
        {
          "output_type": "display_data",
          "data": {
            "text/plain": [
              "<Figure size 432x288 with 1 Axes>"
            ],
            "image/png": "[encoded data removed]"
          },
          "metadata": {
            "needs_background": "light"
          }
        }
      ],
      "id": "fca4f4d2-1bee-4a79-9930-28c1aa434be1"
    },
    {
      "cell_type": "code",
      "source": [
        "import numpy as np\n",
        "import matplotlib.pyplot as plt\n",
        "\n",
        "# Settings\n",
        "n_classes = 3\n",
        "plot_colors = \"bry\" # blue-red-yellow\n",
        "plot_step = 0.02\n",
        "\n",
        "# Choose the length and width attributes of the petals\n",
        "pair = [2, 3]\n",
        "\n",
        "# We only keep the two attributes\n",
        "X = iris.data[:, pair]\n",
        "y = iris.target\n",
        "\n",
        "# Tree learning\n",
        "clf = tree.DecisionTreeClassifier().fit(X, y)\n",
        "\n",
        "# Display of the decision surface\n",
        "x_min, x_max = X[:, 0].min() - 1, X[:, 0].max() + 1\n",
        "y_min, y_max = X[:, 1].min() - 1, X[:, 1].max() + 1\n",
        "xx, yy = np.meshgrid(np.arange(x_min, x_max, plot_step), np.arange(y_min, y_max, plot_step))\n",
        "Z = clf.predict(np.c_[xx.ravel(), yy.ravel()])\n",
        "Z = Z.reshape(xx.shape)\n",
        "cs = plt.contourf(xx, yy, Z, cmap=plt.cm.Paired)\n",
        "plt.xlabel(iris.feature_names[pair[0]])\n",
        "plt.ylabel(iris.feature_names[pair[1]])\n",
        "plt.axis(\"tight\")\n",
        "\n",
        "# Display of learning points\n",
        "for i, color in zip(range(n_classes), plot_colors):\n",
        "    idx = np.where(y == i)\n",
        "    plt.scatter(X[idx, 0], X[idx, 1], c=color, label=iris.target_names[i], cmap=plt.cm.Paired)\n",
        "plt.axis(\"tight\")\n",
        "plt.suptitle(\"Decision surface of a decision tree using attributes 2,3\")\n",
        "plt.legend()\n",
        "plt.show()"
      ],
      "metadata": {
        "trusted": true,
        "colab": {
          "base_uri": "https://localhost:8080/",
          "height": 308
        },
        "id": "b339c732-5f59-4b2f-a2f7-005fb44eae19",
        "outputId": "e0673045-553b-42b6-86bd-097f2b98fbaf"
      },
      "execution_count": 33,
      "outputs": [
        {
          "output_type": "display_data",
          "data": {
            "text/plain": [
              "<Figure size 432x288 with 1 Axes>"
            ],
            "image/png": "[encoded data removed]"
          },
          "metadata": {
            "needs_background": "light"
          }
        }
      ],
      "id": "b339c732-5f59-4b2f-a2f7-005fb44eae19"
    },
    {
      "cell_type": "markdown",
      "source": [
        "## \tDecision trees for regression\n",
        "\n",
        "For regression with decision trees, scikit-learn offers the `DecisionTreeRegressor` class. As for the classification, the  `fit(...)` takes as input the parameter `X` (attributes of the observations). Warning: the `y` are not class labels but real values."
      ],
      "metadata": {
        "id": "dece28d8-590f-4484-879d-d78b43782ba9"
      },
      "id": "dece28d8-590f-4484-879d-d78b43782ba9"
    },
    {
      "cell_type": "code",
      "source": [
        "from sklearn import tree\n",
        "\n",
        "X = [[0, 0], [2, 2]]\n",
        "y = [0.5, 2.5]\n",
        "clf = tree.DecisionTreeRegressor()\n",
        "clf = clf.fit(X, y)\n",
        "clf.predict([[1, 1]])"
      ],
      "metadata": {
        "hide-output": false,
        "trusted": true,
        "colab": {
          "base_uri": "https://localhost:8080/"
        },
        "id": "b8f4f465-252c-4638-ae48-a45a16032532",
        "outputId": "4979d713-6e55-45f5-8512-a49602aba036"
      },
      "execution_count": 34,
      "outputs": [
        {
          "output_type": "execute_result",
          "data": {
            "text/plain": [
              "array([0.5])"
            ]
          },
          "metadata": {},
          "execution_count": 34
        }
      ],
      "id": "b8f4f465-252c-4638-ae48-a45a16032532"
    },
    {
      "cell_type": "markdown",
      "source": [
        "In the following example, we will construct a sinusoidal signal affected by white noise and we will train a regression tree on this training data."
      ],
      "metadata": {
        "id": "c188b3c4-cd8e-4fb6-96b9-4d8f6b54b578"
      },
      "id": "c188b3c4-cd8e-4fb6-96b9-4d8f6b54b578"
    },
    {
      "cell_type": "code",
      "source": [
        "import numpy as np\n",
        "import matplotlib.pyplot as plt\n",
        "\n",
        "from sklearn.tree import DecisionTreeRegressor\n",
        "\n",
        "# Create the training data\n",
        "np.random.seed(0)\n",
        "X = np.sort(5 * np.random.rand(80, 1), axis=0)\n",
        "y = np.sin(X).ravel()\n",
        "\n",
        "fig = plt.figure(figsize=(12, 4))\n",
        "fig.add_subplot(121)\n",
        "plt.plot(X, y)\n",
        "plt.title(\"Pure sine wave\")\n",
        "\n",
        "# We add a random noise every 5 samples\n",
        "y[::5] += 3 * (0.5 - np.random.rand(16))\n",
        "fig.add_subplot(122)\n",
        "plt.plot(X, y)\n",
        "plt.title(\"Noisy sine wave\")"
      ],
      "metadata": {
        "hide-output": false,
        "tags": [],
        "trusted": true,
        "colab": {
          "base_uri": "https://localhost:8080/",
          "height": 298
        },
        "id": "d7c7f558-3a86-44ad-951a-ea17588ddd87",
        "outputId": "00abfa50-cd9c-43ff-8610-db238854d9cd"
      },
      "execution_count": 35,
      "outputs": [
        {
          "output_type": "execute_result",
          "data": {
            "text/plain": [
              "Text(0.5, 1.0, 'Noisy sine wave')"
            ]
          },
          "metadata": {},
          "execution_count": 35
        },
        {
          "output_type": "display_data",
          "data": {
            "text/plain": [
              "<Figure size 864x288 with 2 Axes>"
            ],
            "image/png": "[encoded data removed]"
          },
          "metadata": {
            "needs_background": "light"
          }
        }
      ],
      "id": "d7c7f558-3a86-44ad-951a-ea17588ddd87"
    },
    {
      "cell_type": "markdown",
      "source": [
        "The objective is to regress this signal `y` from the values of `x`. For this, we use a regression tree."
      ],
      "metadata": {
        "id": "f378bc63-6c3b-413c-99c7-07f96c9385c5"
      },
      "id": "f378bc63-6c3b-413c-99c7-07f96c9385c5"
    },
    {
      "cell_type": "code",
      "source": [
        "# Learn the model\n",
        "reg = DecisionTreeRegressor(max_depth=2)\n",
        "reg.fit(X, y)\n",
        "\n",
        "# Prediction on the same range of values\n",
        "X_test = np.arange(0.0, 5.0, 0.01)[:, np.newaxis]\n",
        "y_pred = reg.predict(X_test)\n",
        "\n",
        "# Display of results\n",
        "plt.figure()\n",
        "plt.scatter(X, y, c=\"darkorange\", label=\"Training Examples\")\n",
        "plt.plot(X_test, y_pred, color=\"cornflowerblue\", label=\"Prediction\", linewidth=2)\n",
        "plt.xlabel(\"x\")\n",
        "plt.ylabel(\"y\")\n",
        "plt.title(\"Decision Tree Regression\")\n",
        "plt.legend()\n",
        "plt.show()"
      ],
      "metadata": {
        "hide-output": false,
        "trusted": true,
        "colab": {
          "base_uri": "https://localhost:8080/",
          "height": 295
        },
        "id": "6ec1c528-6890-42f7-9b24-f71ecf20447b",
        "outputId": "0727d713-ccc5-48af-b722-fd4d512edec4"
      },
      "execution_count": 36,
      "outputs": [
        {
          "output_type": "display_data",
          "data": {
            "text/plain": [
              "<Figure size 432x288 with 1 Axes>"
            ],
            "image/png": "[encoded data removed]"
          },
          "metadata": {
            "needs_background": "light"
          }
        }
      ],
      "id": "6ec1c528-6890-42f7-9b24-f71ecf20447b"
    },
    {
      "cell_type": "markdown",
      "source": [
        "## Question 6:\n",
        "\n",
        "Change the value of the `max_depth` parameter. What happens if we take too large a value? Too small? Change the rate of elements affected by noise (the `y[::5]`). When all elements are affected by noise, should a high or low value for `max_depth` be preferred?"
      ],
      "metadata": {
        "id": "5909bc88-b21f-4eb6-a433-767a4d0c9f38"
      },
      "id": "5909bc88-b21f-4eb6-a433-767a4d0c9f38"
    },
    {
      "cell_type": "code",
      "source": [
        "# change max depth same noise\n",
        "reg = DecisionTreeRegressor(max_depth=5)\n",
        "reg.fit(X, y)\n",
        "\n",
        "# Prediction on the same range of values\n",
        "X_test = np.arange(0.0, 5.0, 0.01)[:, np.newaxis]\n",
        "y_pred = reg.predict(X_test)\n",
        "\n",
        "# Display of results\n",
        "plt.figure()\n",
        "plt.scatter(X, y, c=\"darkorange\", label=\"Training Examples\")\n",
        "plt.plot(X_test, y_pred, color=\"cornflowerblue\", label=\"Prediction\", linewidth=2)\n",
        "plt.xlabel(\"x\")\n",
        "plt.ylabel(\"y\")\n",
        "plt.title(\"Decision Tree Regression\")\n",
        "plt.legend()\n",
        "plt.show()"
      ],
      "metadata": {
        "trusted": true,
        "colab": {
          "base_uri": "https://localhost:8080/",
          "height": 295
        },
        "id": "c40ae31e-f939-4142-9232-e44bbd486720",
        "outputId": "4b0a5c83-29b2-4381-e2c9-77bca342a53e"
      },
      "execution_count": 37,
      "outputs": [
        {
          "output_type": "display_data",
          "data": {
            "text/plain": [
              "<Figure size 432x288 with 1 Axes>"
            ],
            "image/png": "[encoded data removed]"
          },
          "metadata": {
            "needs_background": "light"
          }
        }
      ],
      "id": "c40ae31e-f939-4142-9232-e44bbd486720"
    },
    {
      "cell_type": "code",
      "source": [
        "# change max depth same noise\n",
        "reg = DecisionTreeRegressor(max_depth=7)\n",
        "reg.fit(X, y)\n",
        "\n",
        "# Prediction on the same range of values\n",
        "X_test = np.arange(0.0, 5.0, 0.01)[:, np.newaxis]\n",
        "y_pred = reg.predict(X_test)\n",
        "\n",
        "# Display of results\n",
        "plt.figure()\n",
        "plt.scatter(X, y, c=\"darkorange\", label=\"Training Examples\")\n",
        "plt.plot(X_test, y_pred, color=\"cornflowerblue\", label=\"Prediction\", linewidth=2)\n",
        "plt.xlabel(\"x\")\n",
        "plt.ylabel(\"y\")\n",
        "plt.title(\"Decision Tree Regression\")\n",
        "plt.legend()\n",
        "plt.show()"
      ],
      "metadata": {
        "trusted": true,
        "colab": {
          "base_uri": "https://localhost:8080/",
          "height": 295
        },
        "id": "1c05661a-0cd5-4152-b4a3-f43a3bf8eaf5",
        "outputId": "c8bc4ca5-54bf-4d06-a3d5-4afa8a81eae6"
      },
      "execution_count": 38,
      "outputs": [
        {
          "output_type": "display_data",
          "data": {
            "text/plain": [
              "<Figure size 432x288 with 1 Axes>"
            ],
            "image/png": "[encoded data removed]"
          },
          "metadata": {
            "needs_background": "light"
          }
        }
      ],
      "id": "1c05661a-0cd5-4152-b4a3-f43a3bf8eaf5"
    },
    {
      "cell_type": "code",
      "source": [
        "# change max depth same noise\n",
        "reg = DecisionTreeRegressor(max_depth=9)\n",
        "reg.fit(X, y)\n",
        "\n",
        "# Prediction on the same range of values\n",
        "X_test = np.arange(0.0, 5.0, 0.01)[:, np.newaxis]\n",
        "y_pred = reg.predict(X_test)\n",
        "\n",
        "# Display of results\n",
        "plt.figure()\n",
        "plt.scatter(X, y, c=\"darkorange\", label=\"Training Examples\")\n",
        "plt.plot(X_test, y_pred, color=\"cornflowerblue\", label=\"Prediction\", linewidth=2)\n",
        "plt.xlabel(\"x\")\n",
        "plt.ylabel(\"y\")\n",
        "plt.title(\"Decision Tree Regression\")\n",
        "plt.legend()\n",
        "plt.show()"
      ],
      "metadata": {
        "trusted": true,
        "colab": {
          "base_uri": "https://localhost:8080/",
          "height": 295
        },
        "id": "17ce5e99-3ec3-44e1-8f5e-92ff1eff865d",
        "outputId": "a56319d6-2a83-4533-fc9f-8e5ac0e365b5"
      },
      "execution_count": 39,
      "outputs": [
        {
          "output_type": "display_data",
          "data": {
            "text/plain": [
              "<Figure size 432x288 with 1 Axes>"
            ],
            "image/png": "[encoded data removed]"
          },
          "metadata": {
            "needs_background": "light"
          }
        }
      ],
      "id": "17ce5e99-3ec3-44e1-8f5e-92ff1eff865d"
    },
    {
      "cell_type": "markdown",
      "source": [
        "## Question 7:\n",
        "\n",
        "To deepen, load the Diabetes dataset from the `sklearn.datasets` module and make a random partition into learning part and test part (70% learning, 30% testing). Build a regression tree model on this basis. Calculate the root mean square error on the test set. Do a grid search to find the `max_depth` parameter value that minimizes this error."
      ],
      "metadata": {
        "id": "3735da8a-ce70-44ba-a9a8-c00a076fa916"
      },
      "id": "3735da8a-ce70-44ba-a9a8-c00a076fa916"
    },
    {
      "cell_type": "code",
      "source": [
        "from sklearn.datasets import load_diabetes\n",
        "from sklearn.model_selection import train_test_split\n",
        "from sklearn import tree\n",
        "from sklearn.metrics import classification_report\n",
        "from sklearn.metrics import mean_squared_error\n",
        "\n",
        "diabetes = load_diabetes()\n",
        "\n",
        "X, y = diabetes.data, diabetes.target\n",
        "\n",
        "X_train, X_test, y_train, y_test = train_test_split(X, y, train_size=0.7, random_state=0)\n",
        "\n",
        "clf = tree.DecisionTreeClassifier(max_depth = 4)\n",
        "clf.fit(X_train, y_train)\n",
        "\n",
        "classes = tree.plot_tree(clf, filled=True)\n",
        "print(len(classes))\n",
        "                         \n",
        "predictions = clf.predict(X_test)\n",
        "scores = clf.score(X_test, y_test)\n",
        "\n",
        "print(predictions)\n",
        "print(scores)\n",
        "\n",
        "rms = mean_squared_error(y_test, predictions, squared=True)\n",
        "print(rms)\n",
        "\n"
      ],
      "metadata": {
        "trusted": true,
        "colab": {
          "base_uri": "https://localhost:8080/",
          "height": 474
        },
        "id": "26ab74a3-3f43-4d04-bed7-688d039cd26c",
        "outputId": "d5689add-72fa-49d5-91fc-afc429687af7"
      },
      "execution_count": 40,
      "outputs": [
        {
          "output_type": "stream",
          "name": "stdout",
          "text": [
            "29\n",
            "[220. 220. 220.  52.  52. 220.  91. 220. 200. 220.  97. 220.  97.  55.\n",
            " 220. 200.  91.  48.  55. 268. 220. 202.  91.  52. 220. 202.  87.  48.\n",
            " 202. 220. 202.  55. 200.  97. 202. 220.  91. 220.  52. 220.  97.  91.\n",
            " 202. 220. 220.  55.  87. 200.  97. 220.  91.  55.  52. 220. 220.  91.\n",
            " 220. 200. 220. 220. 220. 202.  52.  91. 220. 202.  55. 268. 220.  60.\n",
            "  52.  91.  97. 202.  52.  91.  97. 220. 220. 202. 202. 220.  52. 220.\n",
            "  97.  97. 202. 220. 202. 202.  55.  91.  52. 220.  91.  91. 220. 202.\n",
            "  52. 220.  91. 200. 220.  91. 220.  52. 220. 220. 200.  97. 220.  97.\n",
            "  97.  97.  91. 220. 220.  97. 220.  72.  97.  97.  48. 220.  91.  97.\n",
            " 220. 220. 220. 220. 220.  52. 220.]\n",
            "0.007518796992481203\n",
            "5141.315789473684\n"
          ]
        },
        {
          "output_type": "display_data",
          "data": {
            "text/plain": [
              "<Figure size 432x288 with 1 Axes>"
            ],
            "image/png": "[encoded data removed]"
          },
          "metadata": {
            "needs_background": "light"
          }
        }
      ],
      "id": "26ab74a3-3f43-4d04-bed7-688d039cd26c"
    },
    {
      "cell_type": "markdown",
      "source": [
        "Root mean squared values for different depths:\n",
        "\n",
        "rms dep 7=6406\n",
        "\n",
        "rms dep 6=6287\n",
        "\n",
        "rms dep 5=6439\n",
        "\n",
        "rms dep 4=5141\n",
        "\n",
        "rms dep 3=7668"
      ],
      "metadata": {
        "id": "192c5ddc-5180-44c3-a041-736eae6ff676"
      },
      "id": "192c5ddc-5180-44c3-a041-736eae6ff676"
    }
  ]
}